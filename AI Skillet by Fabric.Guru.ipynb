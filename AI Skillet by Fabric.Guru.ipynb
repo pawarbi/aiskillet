{
 "cells": [
  {
   "cell_type": "markdown",
   "id": "c8f99b33",
   "metadata": {},
   "source": [
    "# AI Skillet \n",
    "## Sandeep Pawar | 08-30-2024\n",
    "### Requirements:\n",
    "\n",
    "- Gradio\n",
    "- plotly\n",
    "- powerbiclient\n",
    "- AI Skills published with an endpoint\n",
    "\n",
    "To use inline in the notebook `demo.launch(inline=True)`\n",
    "\n",
    "Limitations:\n",
    "- One workspace at a time\n",
    "- Manually enter AI Skills GUIDs. You can enter as many AI skills as you want.\n",
    "- Plotting is basic.\n",
    "- Schema not validated.\n",
    "- Results can be incorrect and not validated. \n",
    "\n",
    "Steps:\n",
    "\n",
    "- Update workspace id and ai skills ids\n",
    "- install dependencies\n",
    "- Execute cells\n",
    "- Open the app in a browser (http://127.0.0.1:7860)\n",
    "- Click on AUthenticate to authenticate\n",
    "- Ask questions"
   ]
  },
  {
   "cell_type": "markdown",
   "id": "4b2b5266",
   "metadata": {},
   "source": [
    "### Install Dependencies & Import Libraries"
   ]
  },
  {
   "cell_type": "code",
   "execution_count": 1,
   "id": "8b8de720",
   "metadata": {},
   "outputs": [
    {
     "name": "stderr",
     "output_type": "stream",
     "text": [
      "WARNING: Ignoring invalid distribution -yping-extensions (c:\\users\\sandeeppawar\\anaconda3\\lib\\site-packages)\n",
      "WARNING: Ignoring invalid distribution -yping-extensions (c:\\users\\sandeeppawar\\anaconda3\\lib\\site-packages)\n",
      "WARNING: Ignoring invalid distribution -yping-extensions (c:\\users\\sandeeppawar\\anaconda3\\lib\\site-packages)\n",
      "WARNING: Ignoring invalid distribution -yping-extensions (c:\\users\\sandeeppawar\\anaconda3\\lib\\site-packages)\n",
      "WARNING: Ignoring invalid distribution -yping-extensions (c:\\users\\sandeeppawar\\anaconda3\\lib\\site-packages)\n",
      "WARNING: Ignoring invalid distribution -yping-extensions (c:\\users\\sandeeppawar\\anaconda3\\lib\\site-packages)\n"
     ]
    }
   ],
   "source": [
    "!pip install gradio pydantic powerbiclient plotly --q"
   ]
  },
  {
   "cell_type": "code",
   "execution_count": 2,
   "id": "666f2be1",
   "metadata": {},
   "outputs": [],
   "source": [
    "import gradio as gr\n",
    "import requests\n",
    "import json\n",
    "import pandas as pd\n",
    "import plotly.express as px\n",
    "import plotly.graph_objects as go\n",
    "import plotly.io as pio\n",
    "from powerbiclient.authentication import InteractiveLoginAuthentication\n",
    "import warnings\n",
    "\n",
    "warnings.filterwarnings(\"ignore\", category=UserWarning, message=\"The value passed into gr.Dropdown()\")\n",
    "warnings.filterwarnings(\"ignore\", category=UserWarning, message=\"The `value` received is not in `choices`.\")"
   ]
  },
  {
   "cell_type": "markdown",
   "id": "525b7b32",
   "metadata": {},
   "source": [
    "### Add AI Skills"
   ]
  },
  {
   "cell_type": "code",
   "execution_count": 3,
   "id": "5cb48bef",
   "metadata": {},
   "outputs": [],
   "source": [
    "TOKEN = None\n",
    "\n",
    "#Enter youe workspace ID\n",
    "WORKSPACE_ID = \"cdxxxx9d-xxx-xxxxxxxxxxxx94\"\n",
    "\n",
    "#Add AI Skills IDs and names. There is no API yet to get the list of AI Skills pubslihe so you have to do this manually.\n",
    "\n",
    "AI_SKILLS = {\n",
    "    \"Sales Analysis\": \"xxxxxxxxxxxxxxxx\",\n",
    "    \"Customer Growth\": \"xxxxxxxxxxxxxxxxxxx\",\n",
    "    \"Global Dispatch Forecast\": \"xxxxxxxxxxxxxxxxxxxxx\"\n",
    "}"
   ]
  },
  {
   "cell_type": "markdown",
   "id": "0a5c887f",
   "metadata": {},
   "source": [
    "### Utilities"
   ]
  },
  {
   "cell_type": "code",
   "execution_count": 4,
   "id": "fde03a11",
   "metadata": {},
   "outputs": [],
   "source": [
    "## interactive authentication\n",
    "def authenticate():\n",
    "    global TOKEN\n",
    "    interactive_auth = InteractiveLoginAuthentication()\n",
    "    TOKEN = interactive_auth.get_access_token()\n",
    "    return \"Authenticated\" if TOKEN else \"Authentication failed\"\n",
    "\n",
    "# Call the API \n",
    "def chat(message, history, ai_skill):\n",
    "    global TOKEN\n",
    "    if not TOKEN:\n",
    "        return \"\", history + [(\"You\", message), (\"AI Skillet | Fabric.Guru\", \"Please authenticate first.\")], None, None, None\n",
    "    \n",
    "    headers = {\n",
    "        'Content-Type': 'application/json',\n",
    "        'Authorization': f'Bearer {TOKEN}'\n",
    "    }\n",
    "    \n",
    "    ai_skill_id = AI_SKILLS[ai_skill]\n",
    "    url = f\"https://api.fabric.microsoft.com/v1/workspaces/{WORKSPACE_ID}/aiskills/{ai_skill_id}/query/deployment\"\n",
    "    data = json.dumps({\"userQuestion\": message})\n",
    "    \n",
    "    try:\n",
    "        response = requests.post(url, headers=headers, data=data)\n",
    "        response.raise_for_status()\n",
    "        result = response.json()\n",
    "        \n",
    "        result_header = result['ResultHeaders']\n",
    "        result_rows = result['ResultRows']\n",
    "        \n",
    "        df = pd.DataFrame(result_rows, columns=result_header)\n",
    "        \n",
    "        ai_response = f\"Here's the result for your query using {ai_skill}:\"\n",
    "        return \"\", history + [(\"You\", message), (\"AI Skill\", ai_response)], df, df.columns.tolist(), df.columns.tolist()\n",
    "    except requests.RequestException as e:\n",
    "        error_msg = f\"Error: {str(e)}\"\n",
    "        return \"\", history + [(\"You\", message), (\"AI Skill\", error_msg)], None, None, None\n",
    "\n",
    "#Create plotly visualizations\n",
    "def create_plot(df, plot_type, x_column, y_columns):\n",
    "    if df is None or df.empty or not x_column or not y_columns:\n",
    "        return gr.Plot(visible=False)\n",
    "    \n",
    "    try:\n",
    "        if isinstance(y_columns, list) and len(y_columns) == 1:\n",
    "            y_columns = y_columns[0]  # If only one y-column is selected, convert it to a string\n",
    "        \n",
    "        if plot_type == \"Line Plot\":\n",
    "            fig = px.line(df, x=x_column, y=y_columns)\n",
    "        elif plot_type == \"Bar Plot\":\n",
    "            fig = px.bar(df, x=x_column, y=y_columns)\n",
    "        elif plot_type == \"Scatter Plot\":\n",
    "            fig = px.scatter(df, x=x_column, y=y_columns)\n",
    "        else:\n",
    "            fig = px.line(df, x=x_column, y=y_columns)  # Default to line plot\n",
    "        \n",
    "        return gr.Plot(value=fig, visible=True)\n",
    "    except Exception as e:\n",
    "        print(f\"Error creating plot: {str(e)}\")\n",
    "        return gr.Plot(visible=False)\n",
    "\n",
    "def update_plot(df, plot_type, x_column, y_columns):\n",
    "    if df is not None and not df.empty and x_column and y_columns:\n",
    "        return create_plot(df, plot_type, x_column, y_columns)\n",
    "    return gr.Plot(visible=False)\n",
    "\n",
    "# Chat interface using Gradio\n",
    "\n",
    "def create_interface():\n",
    "    with gr.Blocks(css=\"\"\"\n",
    "                #app-title { \n",
    "            color: #1c4e4e;\n",
    "            font-size: 32px;\n",
    "            font-weight: 900;\n",
    "            margin-bottom: 0;\n",
    "            text-transform: uppercase;\n",
    "            letter-spacing: 1px;\n",
    "            text-shadow: 1px 1px 2px rgba(0,0,0,0.1);\n",
    "            font-family: 'Arial Black', Helvetica, sans-serif;\n",
    "            padding: 10px 0;\n",
    "            border-bottom: 2px solid #1c4e4e;\n",
    "        }\n",
    "        #app-subtitle { color: #1c4e4e; font-size: 18px; margin-top: 5px; }\n",
    "        .gradio-container { background-color: #faf7f0; }\n",
    "        .gr-button { background-color: #1c4e4e; color: white; }\n",
    "        .gr-button:hover { background-color: #163d3d; }\n",
    "        .gr-dropdown { background-color: #e8e6dd; }\n",
    "        .gr-input { background-color: #e8e6dd; }\n",
    "    \"\"\") as demo:\n",
    "        gr.Markdown(\"<p id='app-title'>AI Skillet</p>\")\n",
    "        gr.Markdown(\"<p id='app-subtitle'>Local AI Skills App | Fabric.Guru | v0.2</p>\")\n",
    "        \n",
    "        with gr.Row():\n",
    "            with gr.Column(scale=2):\n",
    "                ai_skill_dropdown = gr.Dropdown(choices=list(AI_SKILLS.keys()), label=\"Select AI Skills\", value=\"Sales Analysis\")\n",
    "            with gr.Column(scale=1):\n",
    "                auth_button = gr.Button(\"Authenticate\")\n",
    "                auth_output = gr.Textbox(label=\"Authentication Status\", interactive=False)\n",
    "        \n",
    "        chatbot = gr.Chatbot(height=300)\n",
    "        msg = gr.Textbox(placeholder=\"Type your message here...\")\n",
    "        result_df = gr.Dataframe(label=\"Query Result\", interactive=False)\n",
    "        \n",
    "        with gr.Row():\n",
    "            plot_type = gr.Dropdown(choices=[\"Line Plot\", \"Bar Plot\", \"Scatter Plot\"], label=\"Select Plot Type\", value=\"Line Plot\")\n",
    "            x_column = gr.Dropdown(label=\"Select X-axis Column\", interactive=False)\n",
    "            y_columns = gr.Dropdown(label=\"Select Y-axis Column(s)\", multiselect=True, interactive=False)\n",
    "        \n",
    "        plot_output = gr.Plot(label=\"Visualization\", visible=False)\n",
    "        \n",
    "        clear = gr.Button(\"Clear\")\n",
    "        \n",
    "        def update_column_options(df):\n",
    "            if df is not None and not df.empty:\n",
    "                columns = df.columns.tolist()\n",
    "                return (\n",
    "                    gr.Dropdown(choices=columns, value=None, interactive=True),\n",
    "                    gr.Dropdown(choices=columns, value=None, interactive=True, multiselect=True)\n",
    "                )\n",
    "            return (\n",
    "                gr.Dropdown(choices=[], value=None, interactive=False),\n",
    "                gr.Dropdown(choices=[], value=None, interactive=False, multiselect=True)\n",
    "            )\n",
    "        \n",
    "        msg.submit(chat, inputs=[msg, chatbot, ai_skill_dropdown], \n",
    "                   outputs=[msg, chatbot, result_df, x_column, y_columns])\n",
    "        \n",
    "        result_df.change(update_column_options, inputs=[result_df], outputs=[x_column, y_columns])\n",
    "        \n",
    "        plot_type.change(update_plot, inputs=[result_df, plot_type, x_column, y_columns], outputs=[plot_output])\n",
    "        x_column.change(update_plot, inputs=[result_df, plot_type, x_column, y_columns], outputs=[plot_output])\n",
    "        y_columns.change(update_plot, inputs=[result_df, plot_type, x_column, y_columns], outputs=[plot_output])\n",
    "        \n",
    "        def clear_interface():\n",
    "            return (\n",
    "                None,\n",
    "                None,\n",
    "                gr.Plot(visible=False),\n",
    "                gr.Dropdown(choices=[], value=None, interactive=False),\n",
    "                gr.Dropdown(choices=[], value=None, interactive=False, multiselect=True)\n",
    "            )\n",
    "        \n",
    "        clear.click(clear_interface, outputs=[chatbot, result_df, plot_output, x_column, y_columns])\n",
    "        auth_button.click(authenticate, outputs=auth_output)\n",
    "    \n",
    "    return demo\n",
    "\n"
   ]
  },
  {
   "cell_type": "markdown",
   "id": "4acfb02b",
   "metadata": {},
   "source": [
    "### Launch the App\n",
    "\n",
    "If you want to use it in the notebook, set `inline=True`"
   ]
  },
  {
   "cell_type": "code",
   "execution_count": 5,
   "id": "6f57f51d",
   "metadata": {},
   "outputs": [
    {
     "name": "stdout",
     "output_type": "stream",
     "text": [
      "Running on local URL:  http://127.0.0.1:7881\n",
      "\n",
      "Could not create share link. Please check your internet connection or our status page: https://status.gradio.app.\n"
     ]
    },
    {
     "data": {
      "text/plain": []
     },
     "execution_count": 5,
     "metadata": {},
     "output_type": "execute_result"
    },
    {
     "name": "stdout",
     "output_type": "stream",
     "text": [
      "A local browser window will be open for interactive sign in.\n",
      "You have logged in.\n",
      "Interactive authentication successfully completed.\n"
     ]
    }
   ],
   "source": [
    "demo = create_interface()\n",
    "demo.launch(inline=False, share=True)"
   ]
  },
  {
   "cell_type": "code",
   "execution_count": null,
   "id": "488a8980",
   "metadata": {},
   "outputs": [],
   "source": []
  }
 ],
 "metadata": {
  "kernelspec": {
   "display_name": "Python 3 (ipykernel)",
   "language": "python",
   "name": "python3"
  },
  "language_info": {
   "codemirror_mode": {
    "name": "ipython",
    "version": 3
   },
   "file_extension": ".py",
   "mimetype": "text/x-python",
   "name": "python",
   "nbconvert_exporter": "python",
   "pygments_lexer": "ipython3",
   "version": "3.9.12"
  }
 },
 "nbformat": 4,
 "nbformat_minor": 5
}
